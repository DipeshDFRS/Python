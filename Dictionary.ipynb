{
 "cells": [
  {
   "cell_type": "code",
   "execution_count": 2,
   "id": "b55bd4c4",
   "metadata": {},
   "outputs": [
    {
     "data": {
      "text/plain": [
       "{' the R book': 500, 'The python book': 700}"
      ]
     },
     "execution_count": 2,
     "metadata": {},
     "output_type": "execute_result"
    }
   ],
   "source": [
    " #Dictionary \n",
    "Book = {\" the R book\" : 500, \"The python book\":700}\n",
    "Book"
   ]
  },
  {
   "cell_type": "code",
   "execution_count": 4,
   "id": "39361885",
   "metadata": {},
   "outputs": [
    {
     "data": {
      "text/plain": [
       "dict"
      ]
     },
     "execution_count": 4,
     "metadata": {},
     "output_type": "execute_result"
    }
   ],
   "source": [
    " type(Book)"
   ]
  },
  {
   "cell_type": "code",
   "execution_count": 5,
   "id": "0244acf5",
   "metadata": {},
   "outputs": [
    {
     "data": {
      "text/plain": [
       "dict_keys([' the R book', 'The python book'])"
      ]
     },
     "execution_count": 5,
     "metadata": {},
     "output_type": "execute_result"
    }
   ],
   "source": [
    "#Extracting keys and values \n",
    "#Extraccting keys\n",
    "Book.keys()"
   ]
  },
  {
   "cell_type": "code",
   "execution_count": 6,
   "id": "7682190d",
   "metadata": {},
   "outputs": [
    {
     "data": {
      "text/plain": [
       "dict_values([500, 700])"
      ]
     },
     "execution_count": 6,
     "metadata": {},
     "output_type": "execute_result"
    }
   ],
   "source": [
    "#extracting values\n",
    "Book.values()"
   ]
  },
  {
   "cell_type": "code",
   "execution_count": 7,
   "id": "b03d20df",
   "metadata": {},
   "outputs": [
    {
     "data": {
      "text/plain": [
       "{' the R book': 500, 'The python book': 700, 'the SQL book': 400}"
      ]
     },
     "execution_count": 7,
     "metadata": {},
     "output_type": "execute_result"
    }
   ],
   "source": [
    " #Adding a new element\n",
    "Book = {\" the R book\" : 500, \"The python book\":700}\n",
    "Book[\"the SQL book\"] = 400\n",
    "Book"
   ]
  },
  {
   "cell_type": "code",
   "execution_count": 8,
   "id": "342e50bf",
   "metadata": {},
   "outputs": [
    {
     "data": {
      "text/plain": [
       "{' the R book': 500, 'The python book': 700, 'the R book': 800}"
      ]
     },
     "execution_count": 8,
     "metadata": {},
     "output_type": "execute_result"
    }
   ],
   "source": [
    "# chnaging a existing element\n",
    "Book = {\" the R book\" : 500, \"The python book\":700}\n",
    "Book[\"the R book\"] = 800\n",
    "Book"
   ]
  },
  {
   "cell_type": "code",
   "execution_count": 9,
   "id": "ee3db44f",
   "metadata": {},
   "outputs": [
    {
     "data": {
      "text/plain": [
       "{'Apple': 100, 'orange': 50, 'Banana': 30, 'Guava': 20}"
      ]
     },
     "execution_count": 9,
     "metadata": {},
     "output_type": "execute_result"
    }
   ],
   "source": [
    "#Popping an element\n",
    "fruit1 = {\"Apple\":100, \"orange\": 50}\n",
    "fruit2 = {\"Banana\":30, \"Guava\":20}\n",
    "fruit1.update(fruit2)\n",
    "fruit1"
   ]
  },
  {
   "cell_type": "code",
   "execution_count": 12,
   "id": "d01a28f9",
   "metadata": {},
   "outputs": [
    {
     "data": {
      "text/plain": [
       "{'Apple': 100, 'orange': 50, 'Banana': 30}"
      ]
     },
     "execution_count": 12,
     "metadata": {},
     "output_type": "execute_result"
    }
   ],
   "source": [
    "#popping an element\n",
    "fruit1 = {'Apple': 100, 'orange': 50, 'Banana': 30, 'Guava': 20}\n",
    "fruit1.pop(\"Guava\")\n",
    "fruit1"
   ]
  },
  {
   "cell_type": "code",
   "execution_count": null,
   "id": "c2a054ae",
   "metadata": {},
   "outputs": [],
   "source": []
  }
 ],
 "metadata": {
  "kernelspec": {
   "display_name": "Python 3 (ipykernel)",
   "language": "python",
   "name": "python3"
  },
  "language_info": {
   "codemirror_mode": {
    "name": "ipython",
    "version": 3
   },
   "file_extension": ".py",
   "mimetype": "text/x-python",
   "name": "python",
   "nbconvert_exporter": "python",
   "pygments_lexer": "ipython3",
   "version": "3.9.13"
  }
 },
 "nbformat": 4,
 "nbformat_minor": 5
}
