{
 "cells": [
  {
   "cell_type": "code",
   "execution_count": 2,
   "id": "c1160414",
   "metadata": {},
   "outputs": [],
   "source": [
    "#if_statements\n",
    "a = 10\n",
    "b = 20 \n",
    "if a > b:\n",
    "    print(\"a is greater than b\")"
   ]
  },
  {
   "cell_type": "code",
   "execution_count": 3,
   "id": "a01c3112",
   "metadata": {},
   "outputs": [
    {
     "name": "stdout",
     "output_type": "stream",
     "text": [
      "b is greater than a\n"
     ]
    }
   ],
   "source": [
    "if b > a:\n",
    "    print(\"b is greater than a\")"
   ]
  },
  {
   "cell_type": "code",
   "execution_count": 4,
   "id": "c1628fe0",
   "metadata": {},
   "outputs": [
    {
     "name": "stdout",
     "output_type": "stream",
     "text": [
      "a is not greater than b\n"
     ]
    }
   ],
   "source": [
    "if a > b:\n",
    "    print(\" a is greater than b\")\n",
    "else:\n",
    "    print(\"a is not greater than b\")"
   ]
  },
  {
   "cell_type": "code",
   "execution_count": 5,
   "id": "39c0ac48",
   "metadata": {},
   "outputs": [],
   "source": [
    "a = 10\n",
    "b = 20 \n",
    "c = 30 "
   ]
  },
  {
   "cell_type": "code",
   "execution_count": 6,
   "id": "f4e64070",
   "metadata": {},
   "outputs": [
    {
     "name": "stdout",
     "output_type": "stream",
     "text": [
      " c is the greatest\n"
     ]
    }
   ],
   "source": [
    "if (a > b & b > c):\n",
    "    Print(\" a is the greatest\")\n",
    "elif ( b > a & b > c):\n",
    "    print (\"b is the greatest\")\n",
    "else:\n",
    "    print(\" c is the greatest\")"
   ]
  },
  {
   "cell_type": "code",
   "execution_count": 7,
   "id": "03ea9be7",
   "metadata": {},
   "outputs": [],
   "source": [
    "tup1 = (1,2,3,4) # if with tuple "
   ]
  },
  {
   "cell_type": "code",
   "execution_count": 8,
   "id": "6e0a7bd9",
   "metadata": {},
   "outputs": [
    {
     "name": "stdout",
     "output_type": "stream",
     "text": [
      "2 is present in the tuple\n"
     ]
    }
   ],
   "source": [
    "if 2 in tup1:\n",
    "    print(\"2 is present in the tuple\")"
   ]
  },
  {
   "cell_type": "code",
   "execution_count": 9,
   "id": "6ea5fdeb",
   "metadata": {},
   "outputs": [
    {
     "name": "stdout",
     "output_type": "stream",
     "text": [
      "6 is not prsent in the tuple\n"
     ]
    }
   ],
   "source": [
    "if 6 in tup1:\n",
    "    print(\"2 is present in the tuple\")\n",
    "else:\n",
    "    print(\"6 is not prsent in the tuple\")"
   ]
  },
  {
   "cell_type": "code",
   "execution_count": 11,
   "id": "cfe6c281",
   "metadata": {},
   "outputs": [],
   "source": [
    "# if with list \n",
    "l1 = [1,2,3,4,5]"
   ]
  },
  {
   "cell_type": "code",
   "execution_count": 12,
   "id": "745871ef",
   "metadata": {},
   "outputs": [
    {
     "data": {
      "text/plain": [
       "[1, 2, 3, 4, 5]"
      ]
     },
     "execution_count": 12,
     "metadata": {},
     "output_type": "execute_result"
    }
   ],
   "source": [
    "l1 "
   ]
  },
  {
   "cell_type": "code",
   "execution_count": 13,
   "id": "e71bddb8",
   "metadata": {},
   "outputs": [],
   "source": [
    "if l1[1]==2:\n",
    "    l1[1] = l1[1] = 100"
   ]
  },
  {
   "cell_type": "code",
   "execution_count": 14,
   "id": "b68583b0",
   "metadata": {},
   "outputs": [
    {
     "data": {
      "text/plain": [
       "[1, 100, 3, 4, 5]"
      ]
     },
     "execution_count": 14,
     "metadata": {},
     "output_type": "execute_result"
    }
   ],
   "source": [
    "l1"
   ]
  },
  {
   "cell_type": "code",
   "execution_count": 17,
   "id": "23205c99",
   "metadata": {},
   "outputs": [],
   "source": [
    "l1 = [1,2,3,4,5]\n",
    "if l1[4]==10:\n",
    "    l1[1]=l1[1]+100\n",
    "else:\n",
    "    l1[4]=l1[4]+500"
   ]
  },
  {
   "cell_type": "code",
   "execution_count": 18,
   "id": "e7f3cc40",
   "metadata": {},
   "outputs": [
    {
     "data": {
      "text/plain": [
       "[1, 2, 3, 4, 505]"
      ]
     },
     "execution_count": 18,
     "metadata": {},
     "output_type": "execute_result"
    }
   ],
   "source": [
    "l1"
   ]
  },
  {
   "cell_type": "code",
   "execution_count": 19,
   "id": "f9f4a158",
   "metadata": {},
   "outputs": [],
   "source": [
    "#if with dictionary\n",
    "d1 = {\"a\":1,\"b\":2,\"c\":3}"
   ]
  },
  {
   "cell_type": "code",
   "execution_count": 20,
   "id": "9743e540",
   "metadata": {},
   "outputs": [],
   "source": [
    "if d1[\"b\"]==2:\n",
    "    d1[\"b\"]= d1[\"b\"]+100"
   ]
  },
  {
   "cell_type": "code",
   "execution_count": 21,
   "id": "796d9648",
   "metadata": {},
   "outputs": [
    {
     "data": {
      "text/plain": [
       "{'a': 1, 'b': 102, 'c': 3}"
      ]
     },
     "execution_count": 21,
     "metadata": {},
     "output_type": "execute_result"
    }
   ],
   "source": [
    "d1"
   ]
  },
  {
   "cell_type": "code",
   "execution_count": null,
   "id": "ab8d1384",
   "metadata": {},
   "outputs": [],
   "source": []
  }
 ],
 "metadata": {
  "kernelspec": {
   "display_name": "Python 3 (ipykernel)",
   "language": "python",
   "name": "python3"
  },
  "language_info": {
   "codemirror_mode": {
    "name": "ipython",
    "version": 3
   },
   "file_extension": ".py",
   "mimetype": "text/x-python",
   "name": "python",
   "nbconvert_exporter": "python",
   "pygments_lexer": "ipython3",
   "version": "3.9.13"
  }
 },
 "nbformat": 4,
 "nbformat_minor": 5
}
