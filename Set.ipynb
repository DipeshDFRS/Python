{
 "cells": [
  {
   "cell_type": "code",
   "execution_count": 4,
   "id": "08638023",
   "metadata": {},
   "outputs": [
    {
     "data": {
      "text/plain": [
       "{'Arun', 'Chanda', 'Dipesh', 'Pratistha'}"
      ]
     },
     "execution_count": 4,
     "metadata": {},
     "output_type": "execute_result"
    }
   ],
   "source": [
    "#Set\n",
    "S1 = {\"Dipesh\", \"Pratistha\", \"Arun\", \"Chanda\", \"Dipesh\"}\n",
    "S1"
   ]
  },
  {
   "cell_type": "code",
   "execution_count": 7,
   "id": "355f9592",
   "metadata": {},
   "outputs": [
    {
     "data": {
      "text/plain": [
       "{'Arun', 'Chanda', 'Dipesh', 'Pratistha', 'Subham'}"
      ]
     },
     "execution_count": 7,
     "metadata": {},
     "output_type": "execute_result"
    }
   ],
   "source": [
    "#Set operations\n",
    "#Adding a new element\n",
    "S1 = {\"Dipesh\", \"Pratistha\", \"Arun\", \"Chanda\"}\n",
    "S1.add(\"Subham\")\n",
    "S1"
   ]
  },
  {
   "cell_type": "code",
   "execution_count": 8,
   "id": "3d6670ad",
   "metadata": {},
   "outputs": [
    {
     "data": {
      "text/plain": [
       "{'Arun', 'Dipesh', 'Pratistha', 'Subham'}"
      ]
     },
     "execution_count": 8,
     "metadata": {},
     "output_type": "execute_result"
    }
   ],
   "source": [
    "#Removing an element\n",
    "S1 = {'Arun', 'Chanda', 'Dipesh', 'Pratistha', 'Subham'}\n",
    "S1.remove(\"Chanda\")\n",
    "S1"
   ]
  },
  {
   "cell_type": "code",
   "execution_count": 9,
   "id": "cf92476b",
   "metadata": {},
   "outputs": [
    {
     "data": {
      "text/plain": [
       "{'Arun',\n",
       " 'Chanda',\n",
       " 'Dipesh',\n",
       " 'Pratistha',\n",
       " 'Rajbati',\n",
       " 'Ram Pratap',\n",
       " 'Shivani',\n",
       " 'Subham'}"
      ]
     },
     "execution_count": 9,
     "metadata": {},
     "output_type": "execute_result"
    }
   ],
   "source": [
    "#updating an element\n",
    "S1 = {'Arun', 'Chanda', 'Dipesh', 'Pratistha', 'Subham'}\n",
    "S1.update([\"Shivani\",\"Ram Pratap\", \"Rajbati\"])\n",
    "S1"
   ]
  },
  {
   "cell_type": "code",
   "execution_count": 10,
   "id": "25df09c4",
   "metadata": {},
   "outputs": [
    {
     "data": {
      "text/plain": [
       "{123, 45, 78.5, 'Asna', 'Bot dhayaro', 'Sal'}"
      ]
     },
     "execution_count": 10,
     "metadata": {},
     "output_type": "execute_result"
    }
   ],
   "source": [
    "#set function \n",
    "#union of two sets \n",
    "s1 = {\"Sal\", \"Asna\", \"Bot dhayaro\"}\n",
    "s2 = {78.5, 123, 45}\n",
    "s1.union(s2)"
   ]
  },
  {
   "cell_type": "code",
   "execution_count": 12,
   "id": "1ee54fda",
   "metadata": {},
   "outputs": [
    {
     "data": {
      "text/plain": [
       "{'Sal'}"
      ]
     },
     "execution_count": 12,
     "metadata": {},
     "output_type": "execute_result"
    }
   ],
   "source": [
    "#Instersection o two sets \n",
    "s1 = {\"Sal\", \"Asna\", \"bot dhayaro\"}\n",
    "s2 = {\"salla\", \"Sal\", \"katus\"}\n",
    "s1.intersection(s2)"
   ]
  },
  {
   "cell_type": "code",
   "execution_count": null,
   "id": "b5ec8c01",
   "metadata": {},
   "outputs": [],
   "source": []
  }
 ],
 "metadata": {
  "kernelspec": {
   "display_name": "Python 3 (ipykernel)",
   "language": "python",
   "name": "python3"
  },
  "language_info": {
   "codemirror_mode": {
    "name": "ipython",
    "version": 3
   },
   "file_extension": ".py",
   "mimetype": "text/x-python",
   "name": "python",
   "nbconvert_exporter": "python",
   "pygments_lexer": "ipython3",
   "version": "3.9.13"
  }
 },
 "nbformat": 4,
 "nbformat_minor": 5
}
