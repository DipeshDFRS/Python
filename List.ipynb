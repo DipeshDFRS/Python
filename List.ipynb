{
 "cells": [
  {
   "cell_type": "code",
   "execution_count": 2,
   "id": "0494ccd5",
   "metadata": {},
   "outputs": [],
   "source": [
    "#List\n",
    "L1 = [\"SAB\", \"EPB\", \"ERR\",\"BOP\", \"BOJ\", \"PET\", \"PEP\", \"LOI\" ]"
   ]
  },
  {
   "cell_type": "code",
   "execution_count": 26,
   "id": "82635405",
   "metadata": {},
   "outputs": [
    {
     "data": {
      "text/plain": [
       "list"
      ]
     },
     "execution_count": 26,
     "metadata": {},
     "output_type": "execute_result"
    }
   ],
   "source": [
    "type(L1)"
   ]
  },
  {
   "cell_type": "code",
   "execution_count": 27,
   "id": "d3e84aa7",
   "metadata": {},
   "outputs": [
    {
     "data": {
      "text/plain": [
       "'SAB'"
      ]
     },
     "execution_count": 27,
     "metadata": {},
     "output_type": "execute_result"
    }
   ],
   "source": [
    "L1[0] #extracting first element\n"
   ]
  },
  {
   "cell_type": "code",
   "execution_count": 28,
   "id": "69470a6a",
   "metadata": {},
   "outputs": [
    {
     "data": {
      "text/plain": [
       "'EPB'"
      ]
     },
     "execution_count": 28,
     "metadata": {},
     "output_type": "execute_result"
    }
   ],
   "source": [
    "L1[1] # extracting second elements"
   ]
  },
  {
   "cell_type": "code",
   "execution_count": 30,
   "id": "da71fab6",
   "metadata": {},
   "outputs": [
    {
     "data": {
      "text/plain": [
       "'LOI'"
      ]
     },
     "execution_count": 30,
     "metadata": {},
     "output_type": "execute_result"
    }
   ],
   "source": [
    "L1[-1] # extracting last element"
   ]
  },
  {
   "cell_type": "code",
   "execution_count": 31,
   "id": "3e8ff522",
   "metadata": {},
   "outputs": [
    {
     "data": {
      "text/plain": [
       "['ERR', 'BOP', 'BOJ']"
      ]
     },
     "execution_count": 31,
     "metadata": {},
     "output_type": "execute_result"
    }
   ],
   "source": [
    "L1[2:5] # 2 is inlcusive and 5 is exclusive"
   ]
  },
  {
   "cell_type": "code",
   "execution_count": 33,
   "id": "7419115a",
   "metadata": {},
   "outputs": [],
   "source": [
    "#Modyfying the List \n",
    "#changing the element at 0th index\n",
    "L1[0] = \"Balsam fur\""
   ]
  },
  {
   "cell_type": "code",
   "execution_count": 35,
   "id": "dd8c5e79",
   "metadata": {},
   "outputs": [
    {
     "data": {
      "text/plain": [
       "['Balsam fur', 'EPB', 'ERR', 'BOP', 'BOJ', 'PET', 'PEP', 'LOI']"
      ]
     },
     "execution_count": 35,
     "metadata": {},
     "output_type": "execute_result"
    }
   ],
   "source": [
    "L1"
   ]
  },
  {
   "cell_type": "code",
   "execution_count": 36,
   "id": "0256f8be",
   "metadata": {},
   "outputs": [
    {
     "data": {
      "text/plain": [
       "'LOI'"
      ]
     },
     "execution_count": 36,
     "metadata": {},
     "output_type": "execute_result"
    }
   ],
   "source": [
    "#popping the last element\n",
    "L1.pop()"
   ]
  },
  {
   "cell_type": "code",
   "execution_count": 37,
   "id": "74e46103",
   "metadata": {},
   "outputs": [
    {
     "data": {
      "text/plain": [
       "['Balsam fur', 'EPB', 'ERR', 'BOP', 'BOJ', 'PET', 'PEP']"
      ]
     },
     "execution_count": 37,
     "metadata": {},
     "output_type": "execute_result"
    }
   ],
   "source": [
    "L1"
   ]
  },
  {
   "cell_type": "code",
   "execution_count": 38,
   "id": "38310e1c",
   "metadata": {},
   "outputs": [],
   "source": [
    "#Appending a new element\n",
    "L1.append(\"CANG\")"
   ]
  },
  {
   "cell_type": "code",
   "execution_count": 39,
   "id": "1223d8ed",
   "metadata": {},
   "outputs": [
    {
     "data": {
      "text/plain": [
       "['Balsam fur', 'EPB', 'ERR', 'BOP', 'BOJ', 'PET', 'PEP', 'CANG']"
      ]
     },
     "execution_count": 39,
     "metadata": {},
     "output_type": "execute_result"
    }
   ],
   "source": [
    "L1"
   ]
  },
  {
   "cell_type": "code",
   "execution_count": 3,
   "id": "289eda09",
   "metadata": {},
   "outputs": [],
   "source": [
    "#Reversing elements of a list\n",
    "L1.reverse()"
   ]
  },
  {
   "cell_type": "code",
   "execution_count": 4,
   "id": "2a869dd1",
   "metadata": {},
   "outputs": [
    {
     "data": {
      "text/plain": [
       "['LOI', 'PEP', 'PET', 'BOJ', 'BOP', 'ERR', 'EPB', 'SAB']"
      ]
     },
     "execution_count": 4,
     "metadata": {},
     "output_type": "execute_result"
    }
   ],
   "source": [
    "L1"
   ]
  },
  {
   "cell_type": "code",
   "execution_count": 5,
   "id": "2d798519",
   "metadata": {},
   "outputs": [],
   "source": [
    "#Inserting element at specified index\n",
    "L1.insert(1,\"SOU\")"
   ]
  },
  {
   "cell_type": "code",
   "execution_count": 6,
   "id": "16063cdc",
   "metadata": {},
   "outputs": [
    {
     "data": {
      "text/plain": [
       "['LOI', 'SOU', 'PEP', 'PET', 'BOJ', 'BOP', 'ERR', 'EPB', 'SAB']"
      ]
     },
     "execution_count": 6,
     "metadata": {},
     "output_type": "execute_result"
    }
   ],
   "source": [
    "L1"
   ]
  },
  {
   "cell_type": "code",
   "execution_count": 8,
   "id": "db3e09bc",
   "metadata": {},
   "outputs": [],
   "source": [
    "#Sortin a list \n",
    "L1.sort()"
   ]
  },
  {
   "cell_type": "code",
   "execution_count": 9,
   "id": "c18e0127",
   "metadata": {},
   "outputs": [
    {
     "data": {
      "text/plain": [
       "['BOJ', 'BOP', 'EPB', 'ERR', 'LOI', 'PEP', 'PET', 'SAB', 'SOU']"
      ]
     },
     "execution_count": 9,
     "metadata": {},
     "output_type": "execute_result"
    }
   ],
   "source": [
    "L1"
   ]
  },
  {
   "cell_type": "code",
   "execution_count": 10,
   "id": "6edf42be",
   "metadata": {},
   "outputs": [],
   "source": [
    "#List basic operations\n",
    "#concatenating Lists\n",
    "L2 = [23.3, 34, 39,32.2,12.8,23.8,27.6, 18.5,24.4,18.6]"
   ]
  },
  {
   "cell_type": "code",
   "execution_count": 11,
   "id": "336b9475",
   "metadata": {},
   "outputs": [
    {
     "data": {
      "text/plain": [
       "['BOJ',\n",
       " 'BOP',\n",
       " 'EPB',\n",
       " 'ERR',\n",
       " 'LOI',\n",
       " 'PEP',\n",
       " 'PET',\n",
       " 'SAB',\n",
       " 'SOU',\n",
       " 23.3,\n",
       " 34,\n",
       " 39,\n",
       " 32.2,\n",
       " 12.8,\n",
       " 23.8,\n",
       " 27.6,\n",
       " 18.5,\n",
       " 24.4,\n",
       " 18.6]"
      ]
     },
     "execution_count": 11,
     "metadata": {},
     "output_type": "execute_result"
    }
   ],
   "source": [
    "L1 + L2"
   ]
  },
  {
   "cell_type": "code",
   "execution_count": 15,
   "id": "86117782",
   "metadata": {},
   "outputs": [
    {
     "data": {
      "text/plain": [
       "[1, 'a', True, 1, 'a', True, 1, 'a', True]"
      ]
     },
     "execution_count": 15,
     "metadata": {},
     "output_type": "execute_result"
    }
   ],
   "source": [
    "#Repeating element\n",
    "l1 = [1, \"a\", True]\n",
    "l1*3"
   ]
  },
  {
   "cell_type": "code",
   "execution_count": null,
   "id": "30330318",
   "metadata": {},
   "outputs": [],
   "source": []
  }
 ],
 "metadata": {
  "kernelspec": {
   "display_name": "Python 3 (ipykernel)",
   "language": "python",
   "name": "python3"
  },
  "language_info": {
   "codemirror_mode": {
    "name": "ipython",
    "version": 3
   },
   "file_extension": ".py",
   "mimetype": "text/x-python",
   "name": "python",
   "nbconvert_exporter": "python",
   "pygments_lexer": "ipython3",
   "version": "3.9.13"
  }
 },
 "nbformat": 4,
 "nbformat_minor": 5
}
